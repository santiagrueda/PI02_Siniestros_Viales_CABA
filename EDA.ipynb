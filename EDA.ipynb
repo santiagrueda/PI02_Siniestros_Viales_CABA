{
 "cells": [
  {
   "cell_type": "markdown",
   "metadata": {},
   "source": [
    "# EDA (Análisis Exploratorio de Datos)"
   ]
  },
  {
   "cell_type": "markdown",
   "metadata": {},
   "source": [
    "##### En este proceso de análisis, tiene como objetivo hallar valores faltantes, valores atípicos u outliers y registros duplicados. Así mismo, se implementarán gráficos para analizar patrones, tendencias y correlaciones entre los datos"
   ]
  },
  {
   "cell_type": "markdown",
   "metadata": {},
   "source": [
    "#### Importo librearias necesarias para el análisis"
   ]
  },
  {
   "cell_type": "code",
   "execution_count": 4,
   "metadata": {},
   "outputs": [],
   "source": [
    "import pandas as pd\n",
    "import numpy as np\n",
    "import matplotlib.pyplot as plt\n",
    "import seaborn as sns\n",
    "import warnings\n",
    "\n",
    "warnings.filterwarnings('ignore')"
   ]
  },
  {
   "cell_type": "markdown",
   "metadata": {},
   "source": [
    "#### Lectura de datos"
   ]
  },
  {
   "cell_type": "code",
   "execution_count": 5,
   "metadata": {},
   "outputs": [],
   "source": [
    "hechos = pd.read_csv('Datasets/CSV/hechos.csv')\n",
    "victimas = pd.read_csv('Datasets/CSV/victimas.csv')"
   ]
  },
  {
   "cell_type": "markdown",
   "metadata": {},
   "source": [
    "#### Primera vista de los datos"
   ]
  },
  {
   "cell_type": "code",
   "execution_count": 6,
   "metadata": {},
   "outputs": [
    {
     "data": {
      "text/html": [
       "<div>\n",
       "<style scoped>\n",
       "    .dataframe tbody tr th:only-of-type {\n",
       "        vertical-align: middle;\n",
       "    }\n",
       "\n",
       "    .dataframe tbody tr th {\n",
       "        vertical-align: top;\n",
       "    }\n",
       "\n",
       "    .dataframe thead th {\n",
       "        text-align: right;\n",
       "    }\n",
       "</style>\n",
       "<table border=\"1\" class=\"dataframe\">\n",
       "  <thead>\n",
       "    <tr style=\"text-align: right;\">\n",
       "      <th></th>\n",
       "      <th>id</th>\n",
       "      <th>n_victimas</th>\n",
       "      <th>fecha</th>\n",
       "      <th>aaaa</th>\n",
       "      <th>mm</th>\n",
       "      <th>dd</th>\n",
       "      <th>hora</th>\n",
       "      <th>hh</th>\n",
       "      <th>lugar_del_hecho</th>\n",
       "      <th>tipo_de_calle</th>\n",
       "      <th>...</th>\n",
       "      <th>otra_direccion</th>\n",
       "      <th>geocodificacion_CABA</th>\n",
       "      <th>longitud</th>\n",
       "      <th>latitud</th>\n",
       "      <th>moto</th>\n",
       "      <th>auto</th>\n",
       "      <th>transporte_publico</th>\n",
       "      <th>camion</th>\n",
       "      <th>ciclista</th>\n",
       "      <th>gravedad</th>\n",
       "    </tr>\n",
       "  </thead>\n",
       "  <tbody>\n",
       "    <tr>\n",
       "      <th>0</th>\n",
       "      <td>2016-0001</td>\n",
       "      <td>1</td>\n",
       "      <td>2016-01-01 00:00:00</td>\n",
       "      <td>2016</td>\n",
       "      <td>1</td>\n",
       "      <td>1</td>\n",
       "      <td>04:00:00</td>\n",
       "      <td>4</td>\n",
       "      <td>AV PIEDRA BUENA Y AV FERNANDEZ DE LA CRUZ</td>\n",
       "      <td>AVENIDA</td>\n",
       "      <td>...</td>\n",
       "      <td>NaN</td>\n",
       "      <td>NaN</td>\n",
       "      <td>NaN</td>\n",
       "      <td>NaN</td>\n",
       "      <td>NaN</td>\n",
       "      <td>NaN</td>\n",
       "      <td>NaN</td>\n",
       "      <td>NaN</td>\n",
       "      <td>NaN</td>\n",
       "      <td>NaN</td>\n",
       "    </tr>\n",
       "    <tr>\n",
       "      <th>1</th>\n",
       "      <td>2016-0002</td>\n",
       "      <td>1</td>\n",
       "      <td>2016-01-02 00:00:00</td>\n",
       "      <td>2016</td>\n",
       "      <td>1</td>\n",
       "      <td>2</td>\n",
       "      <td>01:15:00</td>\n",
       "      <td>1</td>\n",
       "      <td>AV GRAL PAZ  Y AV DE LOS CORRALES</td>\n",
       "      <td>GRAL PAZ</td>\n",
       "      <td>...</td>\n",
       "      <td>NaN</td>\n",
       "      <td>NaN</td>\n",
       "      <td>NaN</td>\n",
       "      <td>NaN</td>\n",
       "      <td>NaN</td>\n",
       "      <td>NaN</td>\n",
       "      <td>NaN</td>\n",
       "      <td>NaN</td>\n",
       "      <td>NaN</td>\n",
       "      <td>NaN</td>\n",
       "    </tr>\n",
       "    <tr>\n",
       "      <th>2</th>\n",
       "      <td>2016-0003</td>\n",
       "      <td>1</td>\n",
       "      <td>2016-01-03 00:00:00</td>\n",
       "      <td>2016</td>\n",
       "      <td>1</td>\n",
       "      <td>3</td>\n",
       "      <td>07:00:00</td>\n",
       "      <td>7</td>\n",
       "      <td>AV ENTRE RIOS 2034</td>\n",
       "      <td>AVENIDA</td>\n",
       "      <td>...</td>\n",
       "      <td>NaN</td>\n",
       "      <td>NaN</td>\n",
       "      <td>NaN</td>\n",
       "      <td>NaN</td>\n",
       "      <td>NaN</td>\n",
       "      <td>NaN</td>\n",
       "      <td>NaN</td>\n",
       "      <td>NaN</td>\n",
       "      <td>NaN</td>\n",
       "      <td>NaN</td>\n",
       "    </tr>\n",
       "    <tr>\n",
       "      <th>3</th>\n",
       "      <td>2016-0004</td>\n",
       "      <td>1</td>\n",
       "      <td>2016-01-10 00:00:00</td>\n",
       "      <td>2016</td>\n",
       "      <td>1</td>\n",
       "      <td>10</td>\n",
       "      <td>00:00:00</td>\n",
       "      <td>0</td>\n",
       "      <td>AV LARRAZABAL Y GRAL VILLEGAS CONRADO</td>\n",
       "      <td>AVENIDA</td>\n",
       "      <td>...</td>\n",
       "      <td>NaN</td>\n",
       "      <td>NaN</td>\n",
       "      <td>NaN</td>\n",
       "      <td>NaN</td>\n",
       "      <td>NaN</td>\n",
       "      <td>NaN</td>\n",
       "      <td>NaN</td>\n",
       "      <td>NaN</td>\n",
       "      <td>NaN</td>\n",
       "      <td>NaN</td>\n",
       "    </tr>\n",
       "    <tr>\n",
       "      <th>4</th>\n",
       "      <td>2016-0005</td>\n",
       "      <td>1</td>\n",
       "      <td>2016-01-21 00:00:00</td>\n",
       "      <td>2016</td>\n",
       "      <td>1</td>\n",
       "      <td>21</td>\n",
       "      <td>05:20:00</td>\n",
       "      <td>5</td>\n",
       "      <td>AV SAN JUAN Y PRESIDENTE LUIS SAENZ PEÑA</td>\n",
       "      <td>AVENIDA</td>\n",
       "      <td>...</td>\n",
       "      <td>NaN</td>\n",
       "      <td>NaN</td>\n",
       "      <td>NaN</td>\n",
       "      <td>NaN</td>\n",
       "      <td>NaN</td>\n",
       "      <td>NaN</td>\n",
       "      <td>NaN</td>\n",
       "      <td>NaN</td>\n",
       "      <td>NaN</td>\n",
       "      <td>NaN</td>\n",
       "    </tr>\n",
       "  </tbody>\n",
       "</table>\n",
       "<p>5 rows × 33 columns</p>\n",
       "</div>"
      ],
      "text/plain": [
       "          id  n_victimas                fecha  aaaa  mm  dd      hora hh  \\\n",
       "0  2016-0001           1  2016-01-01 00:00:00  2016   1   1  04:00:00  4   \n",
       "1  2016-0002           1  2016-01-02 00:00:00  2016   1   2  01:15:00  1   \n",
       "2  2016-0003           1  2016-01-03 00:00:00  2016   1   3  07:00:00  7   \n",
       "3  2016-0004           1  2016-01-10 00:00:00  2016   1  10  00:00:00  0   \n",
       "4  2016-0005           1  2016-01-21 00:00:00  2016   1  21  05:20:00  5   \n",
       "\n",
       "                             lugar_del_hecho tipo_de_calle  ...  \\\n",
       "0  AV PIEDRA BUENA Y AV FERNANDEZ DE LA CRUZ       AVENIDA  ...   \n",
       "1          AV GRAL PAZ  Y AV DE LOS CORRALES      GRAL PAZ  ...   \n",
       "2                         AV ENTRE RIOS 2034       AVENIDA  ...   \n",
       "3      AV LARRAZABAL Y GRAL VILLEGAS CONRADO       AVENIDA  ...   \n",
       "4  AV SAN JUAN Y PRESIDENTE LUIS SAENZ PEÑA        AVENIDA  ...   \n",
       "\n",
       "  otra_direccion  geocodificacion_CABA longitud latitud moto auto  \\\n",
       "0            NaN                   NaN      NaN     NaN  NaN  NaN   \n",
       "1            NaN                   NaN      NaN     NaN  NaN  NaN   \n",
       "2            NaN                   NaN      NaN     NaN  NaN  NaN   \n",
       "3            NaN                   NaN      NaN     NaN  NaN  NaN   \n",
       "4            NaN                   NaN      NaN     NaN  NaN  NaN   \n",
       "\n",
       "  transporte_publico camion ciclista gravedad  \n",
       "0                NaN    NaN      NaN      NaN  \n",
       "1                NaN    NaN      NaN      NaN  \n",
       "2                NaN    NaN      NaN      NaN  \n",
       "3                NaN    NaN      NaN      NaN  \n",
       "4                NaN    NaN      NaN      NaN  \n",
       "\n",
       "[5 rows x 33 columns]"
      ]
     },
     "execution_count": 6,
     "metadata": {},
     "output_type": "execute_result"
    }
   ],
   "source": [
    "hechos.head()"
   ]
  },
  {
   "cell_type": "code",
   "execution_count": 7,
   "metadata": {},
   "outputs": [
    {
     "data": {
      "text/html": [
       "<div>\n",
       "<style scoped>\n",
       "    .dataframe tbody tr th:only-of-type {\n",
       "        vertical-align: middle;\n",
       "    }\n",
       "\n",
       "    .dataframe tbody tr th {\n",
       "        vertical-align: top;\n",
       "    }\n",
       "\n",
       "    .dataframe thead th {\n",
       "        text-align: right;\n",
       "    }\n",
       "</style>\n",
       "<table border=\"1\" class=\"dataframe\">\n",
       "  <thead>\n",
       "    <tr style=\"text-align: right;\">\n",
       "      <th></th>\n",
       "      <th>id</th>\n",
       "      <th>fecha</th>\n",
       "      <th>aaaa</th>\n",
       "      <th>mm</th>\n",
       "      <th>dd</th>\n",
       "      <th>rol</th>\n",
       "      <th>victima</th>\n",
       "      <th>sexo</th>\n",
       "      <th>edad</th>\n",
       "      <th>fecha_fallecimiento</th>\n",
       "      <th>id hecho</th>\n",
       "      <th>aaa</th>\n",
       "      <th>fecha</th>\n",
       "      <th>vehiculo_victima</th>\n",
       "      <th>edad_victima</th>\n",
       "      <th>gravedad</th>\n",
       "    </tr>\n",
       "  </thead>\n",
       "  <tbody>\n",
       "    <tr>\n",
       "      <th>0</th>\n",
       "      <td>2016-0001</td>\n",
       "      <td>2016-01-01</td>\n",
       "      <td>2016.0</td>\n",
       "      <td>1</td>\n",
       "      <td>1</td>\n",
       "      <td>CONDUCTOR</td>\n",
       "      <td>MOTO</td>\n",
       "      <td>MASCULINO</td>\n",
       "      <td>19</td>\n",
       "      <td>2016-01-01 00:00:00</td>\n",
       "      <td>NaN</td>\n",
       "      <td>NaN</td>\n",
       "      <td>NaN</td>\n",
       "      <td>NaN</td>\n",
       "      <td>NaN</td>\n",
       "      <td>NaN</td>\n",
       "    </tr>\n",
       "    <tr>\n",
       "      <th>1</th>\n",
       "      <td>2016-0002</td>\n",
       "      <td>2016-01-02</td>\n",
       "      <td>2016.0</td>\n",
       "      <td>1</td>\n",
       "      <td>2</td>\n",
       "      <td>CONDUCTOR</td>\n",
       "      <td>AUTO</td>\n",
       "      <td>MASCULINO</td>\n",
       "      <td>70</td>\n",
       "      <td>2016-01-02 00:00:00</td>\n",
       "      <td>NaN</td>\n",
       "      <td>NaN</td>\n",
       "      <td>NaN</td>\n",
       "      <td>NaN</td>\n",
       "      <td>NaN</td>\n",
       "      <td>NaN</td>\n",
       "    </tr>\n",
       "    <tr>\n",
       "      <th>2</th>\n",
       "      <td>2016-0003</td>\n",
       "      <td>2016-01-03</td>\n",
       "      <td>2016.0</td>\n",
       "      <td>1</td>\n",
       "      <td>3</td>\n",
       "      <td>CONDUCTOR</td>\n",
       "      <td>MOTO</td>\n",
       "      <td>MASCULINO</td>\n",
       "      <td>30</td>\n",
       "      <td>2016-01-03 00:00:00</td>\n",
       "      <td>NaN</td>\n",
       "      <td>NaN</td>\n",
       "      <td>NaN</td>\n",
       "      <td>NaN</td>\n",
       "      <td>NaN</td>\n",
       "      <td>NaN</td>\n",
       "    </tr>\n",
       "    <tr>\n",
       "      <th>3</th>\n",
       "      <td>2016-0004</td>\n",
       "      <td>2016-01-10</td>\n",
       "      <td>2016.0</td>\n",
       "      <td>1</td>\n",
       "      <td>10</td>\n",
       "      <td>CONDUCTOR</td>\n",
       "      <td>MOTO</td>\n",
       "      <td>MASCULINO</td>\n",
       "      <td>18</td>\n",
       "      <td>SD</td>\n",
       "      <td>NaN</td>\n",
       "      <td>NaN</td>\n",
       "      <td>NaN</td>\n",
       "      <td>NaN</td>\n",
       "      <td>NaN</td>\n",
       "      <td>NaN</td>\n",
       "    </tr>\n",
       "    <tr>\n",
       "      <th>4</th>\n",
       "      <td>2016-0005</td>\n",
       "      <td>2016-01-21</td>\n",
       "      <td>2016.0</td>\n",
       "      <td>1</td>\n",
       "      <td>21</td>\n",
       "      <td>CONDUCTOR</td>\n",
       "      <td>MOTO</td>\n",
       "      <td>MASCULINO</td>\n",
       "      <td>29</td>\n",
       "      <td>2016-02-01 00:00:00</td>\n",
       "      <td>NaN</td>\n",
       "      <td>NaN</td>\n",
       "      <td>NaN</td>\n",
       "      <td>NaN</td>\n",
       "      <td>NaN</td>\n",
       "      <td>NaN</td>\n",
       "    </tr>\n",
       "  </tbody>\n",
       "</table>\n",
       "</div>"
      ],
      "text/plain": [
       "          id       fecha    aaaa  mm  dd        rol victima       sexo edad  \\\n",
       "0  2016-0001  2016-01-01  2016.0   1   1  CONDUCTOR    MOTO  MASCULINO   19   \n",
       "1  2016-0002  2016-01-02  2016.0   1   2  CONDUCTOR    AUTO  MASCULINO   70   \n",
       "2  2016-0003  2016-01-03  2016.0   1   3  CONDUCTOR    MOTO  MASCULINO   30   \n",
       "3  2016-0004  2016-01-10  2016.0   1  10  CONDUCTOR    MOTO  MASCULINO   18   \n",
       "4  2016-0005  2016-01-21  2016.0   1  21  CONDUCTOR    MOTO  MASCULINO   29   \n",
       "\n",
       "   fecha_fallecimiento id hecho  aaa fecha  vehiculo_victima edad_victima  \\\n",
       "0  2016-01-01 00:00:00      NaN  NaN    NaN              NaN          NaN   \n",
       "1  2016-01-02 00:00:00      NaN  NaN    NaN              NaN          NaN   \n",
       "2  2016-01-03 00:00:00      NaN  NaN    NaN              NaN          NaN   \n",
       "3                   SD      NaN  NaN    NaN              NaN          NaN   \n",
       "4  2016-02-01 00:00:00      NaN  NaN    NaN              NaN          NaN   \n",
       "\n",
       "  gravedad  \n",
       "0      NaN  \n",
       "1      NaN  \n",
       "2      NaN  \n",
       "3      NaN  \n",
       "4      NaN  "
      ]
     },
     "execution_count": 7,
     "metadata": {},
     "output_type": "execute_result"
    }
   ],
   "source": [
    "victimas.head()"
   ]
  },
  {
   "cell_type": "markdown",
   "metadata": {},
   "source": [
    "#### Tipo de datos por columna"
   ]
  },
  {
   "cell_type": "code",
   "execution_count": 8,
   "metadata": {},
   "outputs": [
    {
     "name": "stdout",
     "output_type": "stream",
     "text": [
      "Tipo de dato:\n"
     ]
    },
    {
     "data": {
      "text/plain": [
       "id                        object\n",
       "n_victimas                 int64\n",
       "fecha                     object\n",
       "aaaa                       int64\n",
       "mm                         int64\n",
       "dd                         int64\n",
       "hora                      object\n",
       "hh                        object\n",
       "lugar_del_hecho           object\n",
       "tipo_de_calle             object\n",
       "calle                     object\n",
       "altura                   float64\n",
       "cruce                     object\n",
       "dirección normalizada     object\n",
       "comuna                    object\n",
       "xy (caba)                 object\n",
       "pos x                     object\n",
       "pos y                     object\n",
       "participantes             object\n",
       "victima                   object\n",
       "acusado                   object\n",
       "direccion_normalizada     object\n",
       "tipo_calle                object\n",
       "otra_direccion            object\n",
       "geocodificacion_CABA      object\n",
       "longitud                  object\n",
       "latitud                   object\n",
       "moto                      object\n",
       "auto                      object\n",
       "transporte_publico        object\n",
       "camion                    object\n",
       "ciclista                  object\n",
       "gravedad                  object\n",
       "dtype: object"
      ]
     },
     "execution_count": 8,
     "metadata": {},
     "output_type": "execute_result"
    }
   ],
   "source": [
    "print('Tipo de dato:')\n",
    "hechos.dtypes"
   ]
  },
  {
   "cell_type": "code",
   "execution_count": 9,
   "metadata": {},
   "outputs": [
    {
     "name": "stdout",
     "output_type": "stream",
     "text": [
      "Tipo de dato:\n"
     ]
    },
    {
     "data": {
      "text/plain": [
       "id                      object\n",
       "fecha                   object\n",
       "aaaa                   float64\n",
       "mm                       int64\n",
       "dd                       int64\n",
       "rol                     object\n",
       "victima                 object\n",
       "sexo                    object\n",
       "edad                    object\n",
       "fecha_fallecimiento     object\n",
       "id hecho                object\n",
       "aaa                    float64\n",
       "fecha                   object\n",
       "vehiculo_victima        object\n",
       "edad_victima            object\n",
       "gravedad                object\n",
       "dtype: object"
      ]
     },
     "execution_count": 9,
     "metadata": {},
     "output_type": "execute_result"
    }
   ],
   "source": [
    "print('Tipo de dato:')\n",
    "victimas.dtypes"
   ]
  },
  {
   "cell_type": "markdown",
   "metadata": {},
   "source": [
    "#### Valores duplicados"
   ]
  },
  {
   "cell_type": "code",
   "execution_count": 10,
   "metadata": {},
   "outputs": [
    {
     "name": "stdout",
     "output_type": "stream",
     "text": [
      "Cantidad de duplicados en 'hechos' : 0\n",
      "Cantidad de duplicados en 'victimas' : 622\n"
     ]
    }
   ],
   "source": [
    "# Verifico con el ID ya que el resto de información podemos encontrar algun valor igual a otro y no necesariamente sea un duplicado, y el ID debe ser único\n",
    "\n",
    "dups_hechos = hechos.duplicated().sum()\n",
    "print(\"Cantidad de duplicados en 'hechos' :\", dups_hechos)\n",
    "\n",
    "dups_victimas = victimas.duplicated().sum()\n",
    "print(\"Cantidad de duplicados en 'victimas' :\", dups_victimas)"
   ]
  },
  {
   "cell_type": "markdown",
   "metadata": {},
   "source": [
    "##### Se observa que el dataframe 'victimas' contiene 622 filas duplicadas, sin embargo debemos analisar si se tratan de datos idénticos o si son datos con características similares que estan involucrados en los accidentes de tránsito. Para realizar esta determinacion, tomaremos un 'id' asociado a los duplicados para su revisión a detelle"
   ]
  },
  {
   "cell_type": "code",
   "execution_count": 11,
   "metadata": {},
   "outputs": [
    {
     "name": "stdout",
     "output_type": "stream",
     "text": [
      "Filas duplicads en en 'victimas' para el id 'LC-2019-0014644' :\n"
     ]
    },
    {
     "data": {
      "text/html": [
       "<div>\n",
       "<style scoped>\n",
       "    .dataframe tbody tr th:only-of-type {\n",
       "        vertical-align: middle;\n",
       "    }\n",
       "\n",
       "    .dataframe tbody tr th {\n",
       "        vertical-align: top;\n",
       "    }\n",
       "\n",
       "    .dataframe thead th {\n",
       "        text-align: right;\n",
       "    }\n",
       "</style>\n",
       "<table border=\"1\" class=\"dataframe\">\n",
       "  <thead>\n",
       "    <tr style=\"text-align: right;\">\n",
       "      <th></th>\n",
       "      <th>id</th>\n",
       "      <th>fecha</th>\n",
       "      <th>aaaa</th>\n",
       "      <th>mm</th>\n",
       "      <th>dd</th>\n",
       "      <th>rol</th>\n",
       "      <th>victima</th>\n",
       "      <th>sexo</th>\n",
       "      <th>edad</th>\n",
       "      <th>fecha_fallecimiento</th>\n",
       "      <th>id hecho</th>\n",
       "      <th>aaa</th>\n",
       "      <th>fecha</th>\n",
       "      <th>vehiculo_victima</th>\n",
       "      <th>edad_victima</th>\n",
       "      <th>gravedad</th>\n",
       "    </tr>\n",
       "  </thead>\n",
       "  <tbody>\n",
       "    <tr>\n",
       "      <th>912</th>\n",
       "      <td>NaN</td>\n",
       "      <td>NaN</td>\n",
       "      <td>NaN</td>\n",
       "      <td>1</td>\n",
       "      <td>8</td>\n",
       "      <td>NaN</td>\n",
       "      <td>NaN</td>\n",
       "      <td>Varon</td>\n",
       "      <td>NaN</td>\n",
       "      <td>NaN</td>\n",
       "      <td>LC-2019-0014644</td>\n",
       "      <td>2019.0</td>\n",
       "      <td>2019-01-08</td>\n",
       "      <td>sd</td>\n",
       "      <td>29</td>\n",
       "      <td>SD</td>\n",
       "    </tr>\n",
       "    <tr>\n",
       "      <th>913</th>\n",
       "      <td>NaN</td>\n",
       "      <td>NaN</td>\n",
       "      <td>NaN</td>\n",
       "      <td>1</td>\n",
       "      <td>8</td>\n",
       "      <td>NaN</td>\n",
       "      <td>NaN</td>\n",
       "      <td>Varon</td>\n",
       "      <td>NaN</td>\n",
       "      <td>NaN</td>\n",
       "      <td>LC-2019-0014644</td>\n",
       "      <td>2019.0</td>\n",
       "      <td>2019-01-08</td>\n",
       "      <td>sd</td>\n",
       "      <td>29</td>\n",
       "      <td>SD</td>\n",
       "    </tr>\n",
       "  </tbody>\n",
       "</table>\n",
       "</div>"
      ],
      "text/plain": [
       "      id fecha  aaaa  mm  dd  rol victima   sexo edad fecha_fallecimiento  \\\n",
       "912  NaN   NaN   NaN   1   8  NaN     NaN  Varon  NaN                 NaN   \n",
       "913  NaN   NaN   NaN   1   8  NaN     NaN  Varon  NaN                 NaN   \n",
       "\n",
       "            id hecho     aaa      fecha  vehiculo_victima edad_victima  \\\n",
       "912  LC-2019-0014644  2019.0  2019-01-08               sd           29   \n",
       "913  LC-2019-0014644  2019.0  2019-01-08               sd           29   \n",
       "\n",
       "    gravedad  \n",
       "912       SD  \n",
       "913       SD  "
      ]
     },
     "execution_count": 11,
     "metadata": {},
     "output_type": "execute_result"
    }
   ],
   "source": [
    "# Selecciono un id que esté duplicado para su verificación\n",
    "\n",
    "id_hecho = 'LC-2019-0014644'\n",
    "duplicados = victimas[victimas['id hecho'] == id_hecho]\n",
    "\n",
    "print(f\"Filas duplicads en en 'victimas' para el id '{id_hecho}' :\")\n",
    "duplicados"
   ]
  },
  {
   "cell_type": "code",
   "execution_count": 12,
   "metadata": {},
   "outputs": [
    {
     "data": {
      "text/html": [
       "<div>\n",
       "<style scoped>\n",
       "    .dataframe tbody tr th:only-of-type {\n",
       "        vertical-align: middle;\n",
       "    }\n",
       "\n",
       "    .dataframe tbody tr th {\n",
       "        vertical-align: top;\n",
       "    }\n",
       "\n",
       "    .dataframe thead th {\n",
       "        text-align: right;\n",
       "    }\n",
       "</style>\n",
       "<table border=\"1\" class=\"dataframe\">\n",
       "  <thead>\n",
       "    <tr style=\"text-align: right;\">\n",
       "      <th></th>\n",
       "      <th>id</th>\n",
       "      <th>n_victimas</th>\n",
       "      <th>fecha</th>\n",
       "      <th>aaaa</th>\n",
       "      <th>mm</th>\n",
       "      <th>dd</th>\n",
       "      <th>hora</th>\n",
       "      <th>hh</th>\n",
       "      <th>lugar_del_hecho</th>\n",
       "      <th>tipo_de_calle</th>\n",
       "      <th>...</th>\n",
       "      <th>otra_direccion</th>\n",
       "      <th>geocodificacion_CABA</th>\n",
       "      <th>longitud</th>\n",
       "      <th>latitud</th>\n",
       "      <th>moto</th>\n",
       "      <th>auto</th>\n",
       "      <th>transporte_publico</th>\n",
       "      <th>camion</th>\n",
       "      <th>ciclista</th>\n",
       "      <th>gravedad</th>\n",
       "    </tr>\n",
       "  </thead>\n",
       "  <tbody>\n",
       "    <tr>\n",
       "      <th>860</th>\n",
       "      <td>LC-2019-0014644</td>\n",
       "      <td>2</td>\n",
       "      <td>2019-01-08 00:00:00</td>\n",
       "      <td>2019</td>\n",
       "      <td>1</td>\n",
       "      <td>8</td>\n",
       "      <td>08:30:00</td>\n",
       "      <td>8</td>\n",
       "      <td>NaN</td>\n",
       "      <td>NaN</td>\n",
       "      <td>...</td>\n",
       "      <td>Honduras y Scalabrini Ortiz, Raul Av. 0, Barri...</td>\n",
       "      <td>Point (103431.56807860361004714 104186.0149565...</td>\n",
       "      <td>-58.425894</td>\n",
       "      <td>-34.59153</td>\n",
       "      <td>SD</td>\n",
       "      <td>SD</td>\n",
       "      <td>SD</td>\n",
       "      <td>SD</td>\n",
       "      <td>SD</td>\n",
       "      <td>SD</td>\n",
       "    </tr>\n",
       "  </tbody>\n",
       "</table>\n",
       "<p>1 rows × 33 columns</p>\n",
       "</div>"
      ],
      "text/plain": [
       "                  id  n_victimas                fecha  aaaa  mm  dd      hora  \\\n",
       "860  LC-2019-0014644           2  2019-01-08 00:00:00  2019   1   8  08:30:00   \n",
       "\n",
       "    hh lugar_del_hecho tipo_de_calle  ...  \\\n",
       "860  8             NaN           NaN  ...   \n",
       "\n",
       "                                        otra_direccion  \\\n",
       "860  Honduras y Scalabrini Ortiz, Raul Av. 0, Barri...   \n",
       "\n",
       "                                  geocodificacion_CABA    longitud    latitud  \\\n",
       "860  Point (103431.56807860361004714 104186.0149565...  -58.425894  -34.59153   \n",
       "\n",
       "    moto auto transporte_publico camion ciclista gravedad  \n",
       "860   SD   SD                 SD     SD       SD       SD  \n",
       "\n",
       "[1 rows x 33 columns]"
      ]
     },
     "execution_count": 12,
     "metadata": {},
     "output_type": "execute_result"
    }
   ],
   "source": [
    "hechos[hechos['id'] == 'LC-2019-0014644']"
   ]
  },
  {
   "cell_type": "markdown",
   "metadata": {},
   "source": [
    "##### Al realizar el cruce de datos entre 'victimas' y 'hechos', la columna 'n_victimas' nos indica que hay 2 victimas involucradas. Esto quiere decir que estas 2 victimas son aquellas que comparten el mismo identificador, ya que estuvieron involucrados en el mismo accidente, por lo que no son datos duplicados"
   ]
  },
  {
   "cell_type": "markdown",
   "metadata": {},
   "source": [
    "#### Valores 'SD' ó sin dato "
   ]
  },
  {
   "cell_type": "markdown",
   "metadata": {},
   "source": [
    "##### En ambos datasets encontramos una cantidad considerable de datos 'SD', que significa sin dato, y el hecho de que se tomen la tarea de poblar el datasets con ese valor nos da un indicio de que a lo mejor en ese momento del accidente no había ese tipo de información a la mano, no se le puede atribuir a una pérdida de información"
   ]
  },
  {
   "cell_type": "markdown",
   "metadata": {},
   "source": [
    "#### Análisis descriptivo"
   ]
  },
  {
   "cell_type": "code",
   "execution_count": 13,
   "metadata": {},
   "outputs": [
    {
     "data": {
      "text/html": [
       "<div>\n",
       "<style scoped>\n",
       "    .dataframe tbody tr th:only-of-type {\n",
       "        vertical-align: middle;\n",
       "    }\n",
       "\n",
       "    .dataframe tbody tr th {\n",
       "        vertical-align: top;\n",
       "    }\n",
       "\n",
       "    .dataframe thead th {\n",
       "        text-align: right;\n",
       "    }\n",
       "</style>\n",
       "<table border=\"1\" class=\"dataframe\">\n",
       "  <thead>\n",
       "    <tr style=\"text-align: right;\">\n",
       "      <th></th>\n",
       "      <th>n_victimas</th>\n",
       "      <th>aaaa</th>\n",
       "      <th>mm</th>\n",
       "    </tr>\n",
       "  </thead>\n",
       "  <tbody>\n",
       "    <tr>\n",
       "      <th>count</th>\n",
       "      <td>24481.000000</td>\n",
       "      <td>24481.000000</td>\n",
       "      <td>24481.000000</td>\n",
       "    </tr>\n",
       "    <tr>\n",
       "      <th>mean</th>\n",
       "      <td>1.156856</td>\n",
       "      <td>2019.852620</td>\n",
       "      <td>6.600261</td>\n",
       "    </tr>\n",
       "    <tr>\n",
       "      <th>std</th>\n",
       "      <td>0.544944</td>\n",
       "      <td>0.937644</td>\n",
       "      <td>3.479634</td>\n",
       "    </tr>\n",
       "    <tr>\n",
       "      <th>min</th>\n",
       "      <td>0.000000</td>\n",
       "      <td>2016.000000</td>\n",
       "      <td>1.000000</td>\n",
       "    </tr>\n",
       "    <tr>\n",
       "      <th>25%</th>\n",
       "      <td>1.000000</td>\n",
       "      <td>2019.000000</td>\n",
       "      <td>3.000000</td>\n",
       "    </tr>\n",
       "    <tr>\n",
       "      <th>50%</th>\n",
       "      <td>1.000000</td>\n",
       "      <td>2020.000000</td>\n",
       "      <td>7.000000</td>\n",
       "    </tr>\n",
       "    <tr>\n",
       "      <th>75%</th>\n",
       "      <td>1.000000</td>\n",
       "      <td>2021.000000</td>\n",
       "      <td>10.000000</td>\n",
       "    </tr>\n",
       "    <tr>\n",
       "      <th>max</th>\n",
       "      <td>16.000000</td>\n",
       "      <td>2021.000000</td>\n",
       "      <td>12.000000</td>\n",
       "    </tr>\n",
       "  </tbody>\n",
       "</table>\n",
       "</div>"
      ],
      "text/plain": [
       "         n_victimas          aaaa            mm\n",
       "count  24481.000000  24481.000000  24481.000000\n",
       "mean       1.156856   2019.852620      6.600261\n",
       "std        0.544944      0.937644      3.479634\n",
       "min        0.000000   2016.000000      1.000000\n",
       "25%        1.000000   2019.000000      3.000000\n",
       "50%        1.000000   2020.000000      7.000000\n",
       "75%        1.000000   2021.000000     10.000000\n",
       "max       16.000000   2021.000000     12.000000"
      ]
     },
     "execution_count": 13,
     "metadata": {},
     "output_type": "execute_result"
    }
   ],
   "source": [
    "hechos[['n_victimas','aaaa','mm']].describe()"
   ]
  },
  {
   "cell_type": "markdown",
   "metadata": {},
   "source": [
    "##### Se puede observar que para la columna 'n_victimas' que contiene un total de 24.481 registros, hay un promedio de 1.16 victimas por accidente de tránsito, ademas de una desviación estándar de 0.54, lo que indica una dispersión moderada de los datos. Así mismo, es posible identificar que el rango de victimas va desde 0 hasta 16 como su máximo, donde el 75% de los accidentes, resportan 1 victima"
   ]
  },
  {
   "cell_type": "markdown",
   "metadata": {},
   "source": [
    "##### Para el caso de la columna de año 'aaaa' y mes 'mm', es de resaltar que obtenemos una desviación estándar más alta en comparación a las victimas, esto se se debe a que tenemos un rango variado de años y meses donde ocurrieron accidentes y por lo tanto no es una métrica que esté descalificando la calidad de los datos, adicional a esto, se destaca que el 75% de los accidentes de tránsito ocurrieron en el año 2021 y en el mes 10, datos para investigar y añadir valor a nuestro análisis posterior."
   ]
  },
  {
   "cell_type": "code",
   "execution_count": 14,
   "metadata": {},
   "outputs": [
    {
     "data": {
      "text/plain": [
       "comuna\n",
       "1                  2616\n",
       "15                 1952\n",
       "4                  1805\n",
       "3                  1763\n",
       "9                  1747\n",
       "14                 1616\n",
       "7                  1576\n",
       "12                 1477\n",
       "11                 1443\n",
       "13                 1395\n",
       "10                 1376\n",
       "5                  1248\n",
       "8                  1127\n",
       "6                   978\n",
       "2                   903\n",
       "SD                  846\n",
       "No Especificada     442\n",
       "0                     2\n",
       "Name: count, dtype: int64"
      ]
     },
     "execution_count": 14,
     "metadata": {},
     "output_type": "execute_result"
    }
   ],
   "source": [
    "valores = hechos['comuna'].value_counts()\n",
    "valores"
   ]
  },
  {
   "cell_type": "markdown",
   "metadata": {},
   "source": [
    "##### Es de resaltar que cuando se mira a detalle los valores de la columna 'comuna', hallamos valores de '0', y la comuna '0' no existe para la ciudad de Buenos Aires, por lo que es posible que se deba a una mala ingesta de la información"
   ]
  },
  {
   "cell_type": "code",
   "execution_count": 15,
   "metadata": {},
   "outputs": [
    {
     "data": {
      "text/html": [
       "<div>\n",
       "<style scoped>\n",
       "    .dataframe tbody tr th:only-of-type {\n",
       "        vertical-align: middle;\n",
       "    }\n",
       "\n",
       "    .dataframe tbody tr th {\n",
       "        vertical-align: top;\n",
       "    }\n",
       "\n",
       "    .dataframe thead th {\n",
       "        text-align: right;\n",
       "    }\n",
       "</style>\n",
       "<table border=\"1\" class=\"dataframe\">\n",
       "  <thead>\n",
       "    <tr style=\"text-align: right;\">\n",
       "      <th></th>\n",
       "      <th>aaaa</th>\n",
       "      <th>mm</th>\n",
       "      <th>dd</th>\n",
       "      <th>aaa</th>\n",
       "    </tr>\n",
       "  </thead>\n",
       "  <tbody>\n",
       "    <tr>\n",
       "      <th>count</th>\n",
       "      <td>717.000000</td>\n",
       "      <td>28322.000000</td>\n",
       "      <td>28322.000000</td>\n",
       "      <td>27605.000000</td>\n",
       "    </tr>\n",
       "    <tr>\n",
       "      <th>mean</th>\n",
       "      <td>2018.174338</td>\n",
       "      <td>6.619907</td>\n",
       "      <td>15.629334</td>\n",
       "      <td>2019.897265</td>\n",
       "    </tr>\n",
       "    <tr>\n",
       "      <th>std</th>\n",
       "      <td>1.672655</td>\n",
       "      <td>3.481708</td>\n",
       "      <td>8.684060</td>\n",
       "      <td>0.860899</td>\n",
       "    </tr>\n",
       "    <tr>\n",
       "      <th>min</th>\n",
       "      <td>2016.000000</td>\n",
       "      <td>1.000000</td>\n",
       "      <td>1.000000</td>\n",
       "      <td>2019.000000</td>\n",
       "    </tr>\n",
       "    <tr>\n",
       "      <th>25%</th>\n",
       "      <td>2017.000000</td>\n",
       "      <td>3.000000</td>\n",
       "      <td>8.000000</td>\n",
       "      <td>2019.000000</td>\n",
       "    </tr>\n",
       "    <tr>\n",
       "      <th>50%</th>\n",
       "      <td>2018.000000</td>\n",
       "      <td>7.000000</td>\n",
       "      <td>16.000000</td>\n",
       "      <td>2020.000000</td>\n",
       "    </tr>\n",
       "    <tr>\n",
       "      <th>75%</th>\n",
       "      <td>2019.000000</td>\n",
       "      <td>10.000000</td>\n",
       "      <td>23.000000</td>\n",
       "      <td>2021.000000</td>\n",
       "    </tr>\n",
       "    <tr>\n",
       "      <th>max</th>\n",
       "      <td>2021.000000</td>\n",
       "      <td>12.000000</td>\n",
       "      <td>31.000000</td>\n",
       "      <td>2021.000000</td>\n",
       "    </tr>\n",
       "  </tbody>\n",
       "</table>\n",
       "</div>"
      ],
      "text/plain": [
       "              aaaa            mm            dd           aaa\n",
       "count   717.000000  28322.000000  28322.000000  27605.000000\n",
       "mean   2018.174338      6.619907     15.629334   2019.897265\n",
       "std       1.672655      3.481708      8.684060      0.860899\n",
       "min    2016.000000      1.000000      1.000000   2019.000000\n",
       "25%    2017.000000      3.000000      8.000000   2019.000000\n",
       "50%    2018.000000      7.000000     16.000000   2020.000000\n",
       "75%    2019.000000     10.000000     23.000000   2021.000000\n",
       "max    2021.000000     12.000000     31.000000   2021.000000"
      ]
     },
     "execution_count": 15,
     "metadata": {},
     "output_type": "execute_result"
    }
   ],
   "source": [
    "victimas.describe()"
   ]
  },
  {
   "cell_type": "markdown",
   "metadata": {},
   "source": [
    "##### En el caso del dataframe 'victimas', es de destacar que en la columna año 'aaaa' atribuida al año donde hubo victimas en accidentes fatales, se reportan 717 datos, donde el 75% de los las victimas fueron en el año 2019. Del mismo modo, el 75% de las victimas fueron en el mes 10 y el día 23 respectivamente. La última columna que tambien corresponde a año 'aaa', se refiere al año donde hubieron solamente lesionados en un accidente de tránsito, allí se observa que el 75% de los lesionados estan en el año 2021."
   ]
  },
  {
   "cell_type": "markdown",
   "metadata": {},
   "source": [
    "#### Detección de outliers"
   ]
  },
  {
   "cell_type": "markdown",
   "metadata": {},
   "source": [
    "##### Implemento el método de los 3 sigmas, el cual me permite a traves de medidas como la media y la desviación estándar, conocer los límites empíricos de la distribución de nuestros datos, conocidos estos límites, todo lo que esté por fuera de ellos, es considerado un outlier"
   ]
  },
  {
   "cell_type": "code",
   "execution_count": 16,
   "metadata": {},
   "outputs": [
    {
     "data": {
      "text/plain": [
       "edad\n",
       "30.0    28\n",
       "29.0    24\n",
       "23.0    24\n",
       "28.0    20\n",
       "27.0    20\n",
       "        ..\n",
       "11.0     1\n",
       "13.0     1\n",
       "85.0     1\n",
       "7.0      1\n",
       "88.0     1\n",
       "Name: count, Length: 85, dtype: int64"
      ]
     },
     "execution_count": 16,
     "metadata": {},
     "output_type": "execute_result"
    }
   ],
   "source": [
    "# Realizo un df donde me quedo sólo con los valores enteros de las edades para los homicidios, ignorando aquellos valores 'SD' y así poder hacer uso del método\n",
    "\n",
    "df_hom  = victimas['edad'] = pd.to_numeric(victimas['edad'],errors='coerce')\n",
    "\n",
    "df_hom = df_hom[~pd.isna(df_hom)]\n",
    "\n",
    "df_hom.value_counts()\n",
    "\n"
   ]
  },
  {
   "cell_type": "code",
   "execution_count": 17,
   "metadata": {},
   "outputs": [
    {
     "data": {
      "text/plain": [
       "edad_victima\n",
       "28.0     812\n",
       "29.0     805\n",
       "27.0     776\n",
       "30.0     765\n",
       "26.0     761\n",
       "        ... \n",
       "0.0        2\n",
       "95.0       2\n",
       "96.0       1\n",
       "97.0       1\n",
       "100.0      1\n",
       "Name: count, Length: 99, dtype: int64"
      ]
     },
     "execution_count": 17,
     "metadata": {},
     "output_type": "execute_result"
    }
   ],
   "source": [
    "# Realizo lo mismo para las edades de las victimas por lesiones\n",
    "\n",
    "df_les = victimas['edad_victima'] = pd.to_numeric(victimas['edad_victima'], errors='coerce')\n",
    "\n",
    "df_les = df_les[~pd.isna(df_les)]\n",
    "\n",
    "df_les.value_counts()"
   ]
  },
  {
   "cell_type": "code",
   "execution_count": 18,
   "metadata": {},
   "outputs": [
    {
     "name": "stdout",
     "output_type": "stream",
     "text": [
      "Outliers para 'edad': \n",
      "Series([], Name: edad, dtype: float64)\n"
     ]
    }
   ],
   "source": [
    "# Obtengo la media y la desviación estándar de la columna 'edad'\n",
    "media = df_hom.mean()\n",
    "desviacion_estandar = df_hom.std()\n",
    "\n",
    "# Calculo los límites de los outliers\n",
    "limite_inferior = media - 3 * desviacion_estandar\n",
    "limite_superior = media + 3 * desviacion_estandar\n",
    "\n",
    "# Identifico los outliers\n",
    "outliers = df_hom.loc[(df_hom < limite_inferior) | (df_hom > limite_superior)]\n",
    "\n",
    "\n",
    "print(\"Outliers para 'edad': \")\n",
    "print(outliers)"
   ]
  },
  {
   "cell_type": "markdown",
   "metadata": {},
   "source": [
    "##### Esta respuesta me permite saber que para las edades de victimas que fueron homicidios, no se encuentra ningún outlier"
   ]
  },
  {
   "cell_type": "code",
   "execution_count": 19,
   "metadata": {},
   "outputs": [
    {
     "name": "stdout",
     "output_type": "stream",
     "text": [
      "Outliers para 'edad_victima': \n",
      "787      84.0\n",
      "1228     85.0\n",
      "1275     90.0\n",
      "1681     85.0\n",
      "1718     85.0\n",
      "         ... \n",
      "27640    85.0\n",
      "27725    84.0\n",
      "27954    90.0\n",
      "28275    90.0\n",
      "28317    87.0\n",
      "Name: edad_victima, Length: 150, dtype: float64\n"
     ]
    }
   ],
   "source": [
    "# Obtengo la media y la desviación estándar de la columna 'edad_victima'\n",
    "media = df_les.mean()\n",
    "desviacion_estandar = df_les.std()\n",
    "\n",
    "# Calculo los límites de los outliers\n",
    "limite_inferior = media - 3 * desviacion_estandar\n",
    "limite_superior = media + 3 * desviacion_estandar\n",
    "\n",
    "# Identifico los outliers\n",
    "outliers = df_les.loc[(df_les < limite_inferior) | (df_les > limite_superior)]\n",
    "\n",
    "\n",
    "print(\"Outliers para 'edad_victima': \")\n",
    "print(outliers)"
   ]
  },
  {
   "cell_type": "markdown",
   "metadata": {},
   "source": [
    "##### En este caso, para las edades que corresponden a victimas por lesiones, se encuentran 150 outliers, esto no significa que sean valores que se deban borrar, en este caso en particular, corresponde a edades avanzadas de personas que se vieron involucradas en accidentes de tránsito"
   ]
  },
  {
   "cell_type": "markdown",
   "metadata": {},
   "source": [
    "#### Análisis con gráficos"
   ]
  },
  {
   "cell_type": "markdown",
   "metadata": {},
   "source": [
    "#### Gráfico de caja y bigotes, con este gráfico podemos representar gráficamente la distribución de datos numéricos, ademas de poder visualizar la mediana (línea naranja) y los valores outliers como lo hicimos con el método de las 3 sigmas."
   ]
  },
  {
   "cell_type": "code",
   "execution_count": 20,
   "metadata": {},
   "outputs": [
    {
     "data": {
      "image/png": "[encoded data removed]",
      "text/plain": [
       "<Figure size 800x600 with 1 Axes>"
      ]
     },
     "metadata": {},
     "output_type": "display_data"
    }
   ],
   "source": [
    "plt.figure(figsize=(8,6))\n",
    "plt.boxplot(df_hom, vert=False, widths=0.7, patch_artist=True)\n",
    "\n",
    "plt.xlabel('Edad')\n",
    "plt.title('Boxplot para Edad (Homicidios)')\n",
    "\n",
    "plt.show()"
   ]
  },
  {
   "cell_type": "code",
   "execution_count": 21,
   "metadata": {},
   "outputs": [
    {
     "data": {
      "image/png": "[encoded data removed]",
      "text/plain": [
       "<Figure size 800x600 with 1 Axes>"
      ]
     },
     "metadata": {},
     "output_type": "display_data"
    }
   ],
   "source": [
    "plt.figure(figsize=(8,6))\n",
    "plt.boxplot(df_les, vert=False, widths=0.7, patch_artist=True)\n",
    "\n",
    "plt.xlabel('Edad')\n",
    "plt.title('Boxplot para Edad (Lesionados)')\n",
    "\n",
    "plt.show()"
   ]
  },
  {
   "cell_type": "markdown",
   "metadata": {},
   "source": [
    "##### Se confirma entonces el resultado obtenido en el proceso de las 3 sigmas, donde observamos que solo existen valores outliers para las edades asociadas a las victimas por lesiones en accidentes, adicional a esto, podemos observar que las mediadas de ambos son similares."
   ]
  },
  {
   "cell_type": "markdown",
   "metadata": {},
   "source": [
    "#### Gráfico de barras, nos permite representar la frecuencia que ocurre una variable y ademas visualizar la distribución de datos categóricos"
   ]
  },
  {
   "cell_type": "code",
   "execution_count": 25,
   "metadata": {},
   "outputs": [
    {
     "data": {
      "image/png": "[encoded data removed]",
      "text/plain": [
       "<Figure size 1000x600 with 1 Axes>"
      ]
     },
     "metadata": {},
     "output_type": "display_data"
    }
   ],
   "source": [
    "hechos_filtrados = hechos[hechos['tipo_calle'] != 'SD']\n",
    "\n",
    "# Calcular la frecuencia de cada valor en 'tipo_calle'\n",
    "frecuencias = hechos_filtrados['tipo_calle'].value_counts()\n",
    "\n",
    "# Crear un gráfico de barras\n",
    "plt.figure(figsize=(10, 6))\n",
    "frecuencias.plot(kind='bar')\n",
    "\n",
    "# Agregar etiquetas y título\n",
    "plt.xlabel('Tipo de Calle')\n",
    "plt.ylabel('Frecuencia')\n",
    "plt.title('Frecuencia victimas por Tipo de Calle')\n",
    "\n",
    "# Mostrar el gráfico\n",
    "plt.show()"
   ]
  },
  {
   "cell_type": "markdown",
   "metadata": {},
   "source": [
    "##### Fácilmente se puede observar que los tipos de calle en donde es mas común los accidentes, son en las avenidas y calles, donde la 'GRAL PAZ' tambien se atribuye a una avenida de acuerdo al diccionario de palabras"
   ]
  },
  {
   "cell_type": "code",
   "execution_count": 28,
   "metadata": {},
   "outputs": [
    {
     "data": {
      "image/png": "[encoded data removed]",
      "text/plain": [
       "<Figure size 1200x600 with 1 Axes>"
      ]
     },
     "metadata": {},
     "output_type": "display_data"
    }
   ],
   "source": [
    "hechos_filtrados = hechos[~hechos['comuna'].isin(['SD', 'No Especificada', '0'])]\n",
    "\n",
    "# Calcular la frecuencia de cada valor en 'comuna'\n",
    "frecuencias = hechos_filtrados['comuna'].value_counts()\n",
    "\n",
    "# Crear un gráfico de barras\n",
    "plt.figure(figsize=(12, 6))\n",
    "frecuencias.plot(kind='bar')\n",
    "\n",
    "# Agregar etiquetas y título\n",
    "plt.xlabel('Comuna')\n",
    "plt.ylabel('Frecuencia')\n",
    "plt.title('Frecuencia de Victimas por Comuna')\n",
    "\n",
    "# Mostrar el gráfico\n",
    "plt.show()"
   ]
  },
  {
   "cell_type": "markdown",
   "metadata": {},
   "source": [
    "##### Se observa la distribución que tiene la variable comuna con respecto a la cantidad de victimas involucradas en accidentes, allí es posible ver que encontramos un patrón lineal entre las comunas"
   ]
  }
 ],
 "metadata": {
  "kernelspec": {
   "display_name": "Python 3",
   "language": "python",
   "name": "python3"
  },
  "language_info": {
   "codemirror_mode": {
    "name": "ipython",
    "version": 3
   },
   "file_extension": ".py",
   "mimetype": "text/x-python",
   "name": "python",
   "nbconvert_exporter": "python",
   "pygments_lexer": "ipython3",
   "version": "3.12.0"
  }
 },
 "nbformat": 4,
 "nbformat_minor": 2
}
